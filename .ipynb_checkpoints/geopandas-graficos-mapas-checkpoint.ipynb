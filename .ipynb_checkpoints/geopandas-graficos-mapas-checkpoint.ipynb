{
 "cells": [
  {
   "cell_type": "markdown",
   "metadata": {},
   "source": [
    "# GeoPandas - gráficos y mapas"
   ]
  },
  {
   "cell_type": "markdown",
   "metadata": {},
   "source": [
    "**Bibliotecas**"
   ]
  },
  {
   "cell_type": "code",
   "execution_count": 1,
   "metadata": {},
   "outputs": [],
   "source": [
    "import pandas as pd\n",
    "import geopandas as gpd\n",
    "from shapely.geometry import Point, Polygon\n",
    "\n",
    "import matplotlib.pyplot as plt\n",
    "%matplotlib inline\n",
    "\n",
    "import calendar\n",
    "\n",
    "import folium\n",
    "from folium import plugins\n",
    "from folium.plugins import HeatMapWithTime"
   ]
  },
  {
   "cell_type": "markdown",
   "metadata": {},
   "source": [
    "**Variables globales**"
   ]
  },
  {
   "cell_type": "code",
   "execution_count": 2,
   "metadata": {},
   "outputs": [],
   "source": [
    "# Archivo de datos con columnas del DwC (https://dwc.tdwg.org/terms/)\n",
    "archivo_datos = \"datos/ara-macao-cr-2018.csv\"\n",
    "\n",
    "# Nombre científico que se desplegará en los gráficos estadísticos\n",
    "nombre_cientifico = \"Ara macao\"\n",
    "\n",
    "# Cantidad máxima de registros que se despliegan en un GeoDataFrame\n",
    "pd.options.display.max_rows = 12"
   ]
  },
  {
   "cell_type": "markdown",
   "metadata": {},
   "source": [
    "## Carga y limpieza de datos"
   ]
  },
  {
   "cell_type": "code",
   "execution_count": 3,
   "metadata": {},
   "outputs": [
    {
     "data": {
      "text/html": [
       "<div>\n",
       "<style scoped>\n",
       "    .dataframe tbody tr th:only-of-type {\n",
       "        vertical-align: middle;\n",
       "    }\n",
       "\n",
       "    .dataframe tbody tr th {\n",
       "        vertical-align: top;\n",
       "    }\n",
       "\n",
       "    .dataframe thead th {\n",
       "        text-align: right;\n",
       "    }\n",
       "</style>\n",
       "<table border=\"1\" class=\"dataframe\">\n",
       "  <thead>\n",
       "    <tr style=\"text-align: right;\">\n",
       "      <th></th>\n",
       "      <th>gbifID</th>\n",
       "      <th>datasetKey</th>\n",
       "      <th>occurrenceID</th>\n",
       "      <th>kingdom</th>\n",
       "      <th>phylum</th>\n",
       "      <th>class</th>\n",
       "      <th>order</th>\n",
       "      <th>family</th>\n",
       "      <th>genus</th>\n",
       "      <th>species</th>\n",
       "      <th>...</th>\n",
       "      <th>identifiedBy</th>\n",
       "      <th>dateIdentified</th>\n",
       "      <th>license</th>\n",
       "      <th>rightsHolder</th>\n",
       "      <th>recordedBy</th>\n",
       "      <th>typeStatus</th>\n",
       "      <th>establishmentMeans</th>\n",
       "      <th>lastInterpreted</th>\n",
       "      <th>mediaType</th>\n",
       "      <th>issue</th>\n",
       "    </tr>\n",
       "  </thead>\n",
       "  <tbody>\n",
       "    <tr>\n",
       "      <th>0</th>\n",
       "      <td>2283249171</td>\n",
       "      <td>50c9509d-22c7-4a22-a47d-8c48425ef4a7</td>\n",
       "      <td>https://www.inaturalist.org/observations/28522005</td>\n",
       "      <td>Animalia</td>\n",
       "      <td>Chordata</td>\n",
       "      <td>Aves</td>\n",
       "      <td>Psittaciformes</td>\n",
       "      <td>Psittacidae</td>\n",
       "      <td>Ara</td>\n",
       "      <td>Ara macao</td>\n",
       "      <td>...</td>\n",
       "      <td>NaN</td>\n",
       "      <td>2019-07-09T21:52:47Z</td>\n",
       "      <td>CC_BY_NC_4_0</td>\n",
       "      <td>Ari Rice</td>\n",
       "      <td>Ari Rice</td>\n",
       "      <td>NaN</td>\n",
       "      <td>NaN</td>\n",
       "      <td>2019-08-28T00:35:26.986Z</td>\n",
       "      <td>STILLIMAGE</td>\n",
       "      <td>GEODETIC_DATUM_ASSUMED_WGS84;COORDINATE_ROUNDED</td>\n",
       "    </tr>\n",
       "    <tr>\n",
       "      <th>1</th>\n",
       "      <td>2244271414</td>\n",
       "      <td>50c9509d-22c7-4a22-a47d-8c48425ef4a7</td>\n",
       "      <td>https://www.inaturalist.org/observations/25412608</td>\n",
       "      <td>Animalia</td>\n",
       "      <td>Chordata</td>\n",
       "      <td>Aves</td>\n",
       "      <td>Psittaciformes</td>\n",
       "      <td>Psittacidae</td>\n",
       "      <td>Ara</td>\n",
       "      <td>Ara macao</td>\n",
       "      <td>...</td>\n",
       "      <td>NaN</td>\n",
       "      <td>2019-05-19T23:11:00Z</td>\n",
       "      <td>CC_BY_NC_4_0</td>\n",
       "      <td>bandonman</td>\n",
       "      <td>bandonman</td>\n",
       "      <td>NaN</td>\n",
       "      <td>NaN</td>\n",
       "      <td>2019-08-28T00:21:20.370Z</td>\n",
       "      <td>STILLIMAGE</td>\n",
       "      <td>GEODETIC_DATUM_ASSUMED_WGS84;COORDINATE_ROUNDED</td>\n",
       "    </tr>\n",
       "    <tr>\n",
       "      <th>2</th>\n",
       "      <td>2242831216</td>\n",
       "      <td>50c9509d-22c7-4a22-a47d-8c48425ef4a7</td>\n",
       "      <td>https://www.inaturalist.org/observations/24530685</td>\n",
       "      <td>Animalia</td>\n",
       "      <td>Chordata</td>\n",
       "      <td>Aves</td>\n",
       "      <td>Psittaciformes</td>\n",
       "      <td>Psittacidae</td>\n",
       "      <td>Ara</td>\n",
       "      <td>Ara macao</td>\n",
       "      <td>...</td>\n",
       "      <td>NaN</td>\n",
       "      <td>2019-05-04T19:13:19Z</td>\n",
       "      <td>CC_BY_NC_4_0</td>\n",
       "      <td>Gustavo Garza Arrambide</td>\n",
       "      <td>Gustavo Garza Arrambide</td>\n",
       "      <td>NaN</td>\n",
       "      <td>NaN</td>\n",
       "      <td>2019-08-28T00:16:58.828Z</td>\n",
       "      <td>STILLIMAGE</td>\n",
       "      <td>GEODETIC_DATUM_ASSUMED_WGS84;COORDINATE_ROUNDED</td>\n",
       "    </tr>\n",
       "    <tr>\n",
       "      <th>3</th>\n",
       "      <td>2242813134</td>\n",
       "      <td>50c9509d-22c7-4a22-a47d-8c48425ef4a7</td>\n",
       "      <td>https://www.inaturalist.org/observations/24455509</td>\n",
       "      <td>Animalia</td>\n",
       "      <td>Chordata</td>\n",
       "      <td>Aves</td>\n",
       "      <td>Psittaciformes</td>\n",
       "      <td>Psittacidae</td>\n",
       "      <td>Ara</td>\n",
       "      <td>Ara macao</td>\n",
       "      <td>...</td>\n",
       "      <td>NaN</td>\n",
       "      <td>2019-05-03T18:15:42Z</td>\n",
       "      <td>CC_BY_NC_4_0</td>\n",
       "      <td>chris-hannah</td>\n",
       "      <td>chris-hannah</td>\n",
       "      <td>NaN</td>\n",
       "      <td>NaN</td>\n",
       "      <td>2019-08-28T00:16:36.439Z</td>\n",
       "      <td>STILLIMAGE</td>\n",
       "      <td>GEODETIC_DATUM_ASSUMED_WGS84;COORDINATE_ROUNDED</td>\n",
       "    </tr>\n",
       "    <tr>\n",
       "      <th>4</th>\n",
       "      <td>2233925578</td>\n",
       "      <td>4fa7b334-ce0d-4e88-aaae-2e0c138d049e</td>\n",
       "      <td>URN:catalog:CLO:EBIRD:OBS706459325</td>\n",
       "      <td>Animalia</td>\n",
       "      <td>Chordata</td>\n",
       "      <td>Aves</td>\n",
       "      <td>Psittaciformes</td>\n",
       "      <td>Psittacidae</td>\n",
       "      <td>Ara</td>\n",
       "      <td>Ara macao</td>\n",
       "      <td>...</td>\n",
       "      <td>NaN</td>\n",
       "      <td>NaN</td>\n",
       "      <td>CC0_1_0</td>\n",
       "      <td>NaN</td>\n",
       "      <td>obsr1089638</td>\n",
       "      <td>NaN</td>\n",
       "      <td>NaN</td>\n",
       "      <td>2019-03-31T21:19:08.104Z</td>\n",
       "      <td>NaN</td>\n",
       "      <td>COORDINATE_ROUNDED</td>\n",
       "    </tr>\n",
       "    <tr>\n",
       "      <th>...</th>\n",
       "      <td>...</td>\n",
       "      <td>...</td>\n",
       "      <td>...</td>\n",
       "      <td>...</td>\n",
       "      <td>...</td>\n",
       "      <td>...</td>\n",
       "      <td>...</td>\n",
       "      <td>...</td>\n",
       "      <td>...</td>\n",
       "      <td>...</td>\n",
       "      <td>...</td>\n",
       "      <td>...</td>\n",
       "      <td>...</td>\n",
       "      <td>...</td>\n",
       "      <td>...</td>\n",
       "      <td>...</td>\n",
       "      <td>...</td>\n",
       "      <td>...</td>\n",
       "      <td>...</td>\n",
       "      <td>...</td>\n",
       "      <td>...</td>\n",
       "    </tr>\n",
       "    <tr>\n",
       "      <th>5309</th>\n",
       "      <td>1807286620</td>\n",
       "      <td>50c9509d-22c7-4a22-a47d-8c48425ef4a7</td>\n",
       "      <td>https://www.inaturalist.org/observations/9669545</td>\n",
       "      <td>Animalia</td>\n",
       "      <td>Chordata</td>\n",
       "      <td>Aves</td>\n",
       "      <td>Psittaciformes</td>\n",
       "      <td>Psittacidae</td>\n",
       "      <td>Ara</td>\n",
       "      <td>Ara macao</td>\n",
       "      <td>...</td>\n",
       "      <td>NaN</td>\n",
       "      <td>2018-01-30T17:54:57Z</td>\n",
       "      <td>CC_BY_NC_4_0</td>\n",
       "      <td>mkkennedy</td>\n",
       "      <td>mkkennedy</td>\n",
       "      <td>NaN</td>\n",
       "      <td>NaN</td>\n",
       "      <td>2019-08-28T02:46:28.417Z</td>\n",
       "      <td>STILLIMAGE</td>\n",
       "      <td>GEODETIC_DATUM_ASSUMED_WGS84;COORDINATE_ROUNDED</td>\n",
       "    </tr>\n",
       "    <tr>\n",
       "      <th>5310</th>\n",
       "      <td>1806376988</td>\n",
       "      <td>50c9509d-22c7-4a22-a47d-8c48425ef4a7</td>\n",
       "      <td>https://www.inaturalist.org/observations/9663536</td>\n",
       "      <td>Animalia</td>\n",
       "      <td>Chordata</td>\n",
       "      <td>Aves</td>\n",
       "      <td>Psittaciformes</td>\n",
       "      <td>Psittacidae</td>\n",
       "      <td>Ara</td>\n",
       "      <td>Ara macao</td>\n",
       "      <td>...</td>\n",
       "      <td>NaN</td>\n",
       "      <td>2018-01-30T02:29:40Z</td>\n",
       "      <td>CC_BY_NC_4_0</td>\n",
       "      <td>Ross Millikan</td>\n",
       "      <td>Ross Millikan</td>\n",
       "      <td>NaN</td>\n",
       "      <td>NaN</td>\n",
       "      <td>2019-08-28T02:46:26.003Z</td>\n",
       "      <td>STILLIMAGE</td>\n",
       "      <td>GEODETIC_DATUM_ASSUMED_WGS84;COORDINATE_ROUNDED</td>\n",
       "    </tr>\n",
       "    <tr>\n",
       "      <th>5311</th>\n",
       "      <td>1806350808</td>\n",
       "      <td>50c9509d-22c7-4a22-a47d-8c48425ef4a7</td>\n",
       "      <td>https://www.inaturalist.org/observations/9578030</td>\n",
       "      <td>Animalia</td>\n",
       "      <td>Chordata</td>\n",
       "      <td>Aves</td>\n",
       "      <td>Psittaciformes</td>\n",
       "      <td>Psittacidae</td>\n",
       "      <td>Ara</td>\n",
       "      <td>Ara macao</td>\n",
       "      <td>...</td>\n",
       "      <td>NaN</td>\n",
       "      <td>2018-01-23T19:54:12Z</td>\n",
       "      <td>CC_BY_NC_4_0</td>\n",
       "      <td>Steve Mech</td>\n",
       "      <td>Steve Mech</td>\n",
       "      <td>NaN</td>\n",
       "      <td>NaN</td>\n",
       "      <td>2019-08-28T02:45:51.885Z</td>\n",
       "      <td>STILLIMAGE</td>\n",
       "      <td>GEODETIC_DATUM_ASSUMED_WGS84;COORDINATE_ROUNDED</td>\n",
       "    </tr>\n",
       "    <tr>\n",
       "      <th>5312</th>\n",
       "      <td>1802787827</td>\n",
       "      <td>50c9509d-22c7-4a22-a47d-8c48425ef4a7</td>\n",
       "      <td>https://www.inaturalist.org/observations/9398884</td>\n",
       "      <td>Animalia</td>\n",
       "      <td>Chordata</td>\n",
       "      <td>Aves</td>\n",
       "      <td>Psittaciformes</td>\n",
       "      <td>Psittacidae</td>\n",
       "      <td>Ara</td>\n",
       "      <td>Ara macao</td>\n",
       "      <td>...</td>\n",
       "      <td>NaN</td>\n",
       "      <td>NaN</td>\n",
       "      <td>CC_BY_NC_4_0</td>\n",
       "      <td>Maria Auxiliadora Mora Cross</td>\n",
       "      <td>Maria Auxiliadora Mora Cross</td>\n",
       "      <td>NaN</td>\n",
       "      <td>NaN</td>\n",
       "      <td>2019-08-28T02:44:27.771Z</td>\n",
       "      <td>STILLIMAGE</td>\n",
       "      <td>GEODETIC_DATUM_ASSUMED_WGS84;COORDINATE_ROUNDED</td>\n",
       "    </tr>\n",
       "    <tr>\n",
       "      <th>5313</th>\n",
       "      <td>1802787660</td>\n",
       "      <td>50c9509d-22c7-4a22-a47d-8c48425ef4a7</td>\n",
       "      <td>https://www.inaturalist.org/observations/9398513</td>\n",
       "      <td>Animalia</td>\n",
       "      <td>Chordata</td>\n",
       "      <td>Aves</td>\n",
       "      <td>Psittaciformes</td>\n",
       "      <td>Psittacidae</td>\n",
       "      <td>Ara</td>\n",
       "      <td>Ara macao</td>\n",
       "      <td>...</td>\n",
       "      <td>NaN</td>\n",
       "      <td>2018-01-07T23:30:00Z</td>\n",
       "      <td>CC_BY_NC_4_0</td>\n",
       "      <td>Maria Auxiliadora Mora Cross</td>\n",
       "      <td>Maria Auxiliadora Mora Cross</td>\n",
       "      <td>NaN</td>\n",
       "      <td>NaN</td>\n",
       "      <td>2019-08-28T02:44:29.758Z</td>\n",
       "      <td>STILLIMAGE</td>\n",
       "      <td>GEODETIC_DATUM_ASSUMED_WGS84;COORDINATE_ROUNDED</td>\n",
       "    </tr>\n",
       "  </tbody>\n",
       "</table>\n",
       "<p>5314 rows × 50 columns</p>\n",
       "</div>"
      ],
      "text/plain": [
       "          gbifID                            datasetKey  \\\n",
       "0     2283249171  50c9509d-22c7-4a22-a47d-8c48425ef4a7   \n",
       "1     2244271414  50c9509d-22c7-4a22-a47d-8c48425ef4a7   \n",
       "2     2242831216  50c9509d-22c7-4a22-a47d-8c48425ef4a7   \n",
       "3     2242813134  50c9509d-22c7-4a22-a47d-8c48425ef4a7   \n",
       "4     2233925578  4fa7b334-ce0d-4e88-aaae-2e0c138d049e   \n",
       "...          ...                                   ...   \n",
       "5309  1807286620  50c9509d-22c7-4a22-a47d-8c48425ef4a7   \n",
       "5310  1806376988  50c9509d-22c7-4a22-a47d-8c48425ef4a7   \n",
       "5311  1806350808  50c9509d-22c7-4a22-a47d-8c48425ef4a7   \n",
       "5312  1802787827  50c9509d-22c7-4a22-a47d-8c48425ef4a7   \n",
       "5313  1802787660  50c9509d-22c7-4a22-a47d-8c48425ef4a7   \n",
       "\n",
       "                                           occurrenceID   kingdom    phylum  \\\n",
       "0     https://www.inaturalist.org/observations/28522005  Animalia  Chordata   \n",
       "1     https://www.inaturalist.org/observations/25412608  Animalia  Chordata   \n",
       "2     https://www.inaturalist.org/observations/24530685  Animalia  Chordata   \n",
       "3     https://www.inaturalist.org/observations/24455509  Animalia  Chordata   \n",
       "4                    URN:catalog:CLO:EBIRD:OBS706459325  Animalia  Chordata   \n",
       "...                                                 ...       ...       ...   \n",
       "5309   https://www.inaturalist.org/observations/9669545  Animalia  Chordata   \n",
       "5310   https://www.inaturalist.org/observations/9663536  Animalia  Chordata   \n",
       "5311   https://www.inaturalist.org/observations/9578030  Animalia  Chordata   \n",
       "5312   https://www.inaturalist.org/observations/9398884  Animalia  Chordata   \n",
       "5313   https://www.inaturalist.org/observations/9398513  Animalia  Chordata   \n",
       "\n",
       "     class           order       family genus    species  ...  identifiedBy  \\\n",
       "0     Aves  Psittaciformes  Psittacidae   Ara  Ara macao  ...           NaN   \n",
       "1     Aves  Psittaciformes  Psittacidae   Ara  Ara macao  ...           NaN   \n",
       "2     Aves  Psittaciformes  Psittacidae   Ara  Ara macao  ...           NaN   \n",
       "3     Aves  Psittaciformes  Psittacidae   Ara  Ara macao  ...           NaN   \n",
       "4     Aves  Psittaciformes  Psittacidae   Ara  Ara macao  ...           NaN   \n",
       "...    ...             ...          ...   ...        ...  ...           ...   \n",
       "5309  Aves  Psittaciformes  Psittacidae   Ara  Ara macao  ...           NaN   \n",
       "5310  Aves  Psittaciformes  Psittacidae   Ara  Ara macao  ...           NaN   \n",
       "5311  Aves  Psittaciformes  Psittacidae   Ara  Ara macao  ...           NaN   \n",
       "5312  Aves  Psittaciformes  Psittacidae   Ara  Ara macao  ...           NaN   \n",
       "5313  Aves  Psittaciformes  Psittacidae   Ara  Ara macao  ...           NaN   \n",
       "\n",
       "            dateIdentified       license                  rightsHolder  \\\n",
       "0     2019-07-09T21:52:47Z  CC_BY_NC_4_0                      Ari Rice   \n",
       "1     2019-05-19T23:11:00Z  CC_BY_NC_4_0                     bandonman   \n",
       "2     2019-05-04T19:13:19Z  CC_BY_NC_4_0       Gustavo Garza Arrambide   \n",
       "3     2019-05-03T18:15:42Z  CC_BY_NC_4_0                  chris-hannah   \n",
       "4                      NaN       CC0_1_0                           NaN   \n",
       "...                    ...           ...                           ...   \n",
       "5309  2018-01-30T17:54:57Z  CC_BY_NC_4_0                     mkkennedy   \n",
       "5310  2018-01-30T02:29:40Z  CC_BY_NC_4_0                 Ross Millikan   \n",
       "5311  2018-01-23T19:54:12Z  CC_BY_NC_4_0                    Steve Mech   \n",
       "5312                   NaN  CC_BY_NC_4_0  Maria Auxiliadora Mora Cross   \n",
       "5313  2018-01-07T23:30:00Z  CC_BY_NC_4_0  Maria Auxiliadora Mora Cross   \n",
       "\n",
       "                        recordedBy typeStatus establishmentMeans  \\\n",
       "0                         Ari Rice        NaN                NaN   \n",
       "1                        bandonman        NaN                NaN   \n",
       "2          Gustavo Garza Arrambide        NaN                NaN   \n",
       "3                     chris-hannah        NaN                NaN   \n",
       "4                      obsr1089638        NaN                NaN   \n",
       "...                            ...        ...                ...   \n",
       "5309                     mkkennedy        NaN                NaN   \n",
       "5310                 Ross Millikan        NaN                NaN   \n",
       "5311                    Steve Mech        NaN                NaN   \n",
       "5312  Maria Auxiliadora Mora Cross        NaN                NaN   \n",
       "5313  Maria Auxiliadora Mora Cross        NaN                NaN   \n",
       "\n",
       "               lastInterpreted   mediaType  \\\n",
       "0     2019-08-28T00:35:26.986Z  STILLIMAGE   \n",
       "1     2019-08-28T00:21:20.370Z  STILLIMAGE   \n",
       "2     2019-08-28T00:16:58.828Z  STILLIMAGE   \n",
       "3     2019-08-28T00:16:36.439Z  STILLIMAGE   \n",
       "4     2019-03-31T21:19:08.104Z         NaN   \n",
       "...                        ...         ...   \n",
       "5309  2019-08-28T02:46:28.417Z  STILLIMAGE   \n",
       "5310  2019-08-28T02:46:26.003Z  STILLIMAGE   \n",
       "5311  2019-08-28T02:45:51.885Z  STILLIMAGE   \n",
       "5312  2019-08-28T02:44:27.771Z  STILLIMAGE   \n",
       "5313  2019-08-28T02:44:29.758Z  STILLIMAGE   \n",
       "\n",
       "                                                issue  \n",
       "0     GEODETIC_DATUM_ASSUMED_WGS84;COORDINATE_ROUNDED  \n",
       "1     GEODETIC_DATUM_ASSUMED_WGS84;COORDINATE_ROUNDED  \n",
       "2     GEODETIC_DATUM_ASSUMED_WGS84;COORDINATE_ROUNDED  \n",
       "3     GEODETIC_DATUM_ASSUMED_WGS84;COORDINATE_ROUNDED  \n",
       "4                                  COORDINATE_ROUNDED  \n",
       "...                                               ...  \n",
       "5309  GEODETIC_DATUM_ASSUMED_WGS84;COORDINATE_ROUNDED  \n",
       "5310  GEODETIC_DATUM_ASSUMED_WGS84;COORDINATE_ROUNDED  \n",
       "5311  GEODETIC_DATUM_ASSUMED_WGS84;COORDINATE_ROUNDED  \n",
       "5312  GEODETIC_DATUM_ASSUMED_WGS84;COORDINATE_ROUNDED  \n",
       "5313  GEODETIC_DATUM_ASSUMED_WGS84;COORDINATE_ROUNDED  \n",
       "\n",
       "[5314 rows x 50 columns]"
      ]
     },
     "execution_count": 3,
     "metadata": {},
     "output_type": "execute_result"
    }
   ],
   "source": [
    "# Carga de datos en un DataFrame\n",
    "registros_presencia_df = pd.read_csv(archivo_datos, sep='\\t')\n",
    "registros_presencia_df\n",
    "\n",
    "# registros_presencia_df.head()\n",
    "# registros_presencia_df.tail()"
   ]
  },
  {
   "cell_type": "code",
   "execution_count": 4,
   "metadata": {},
   "outputs": [
    {
     "data": {
      "text/plain": [
       "['gbifID',\n",
       " 'datasetKey',\n",
       " 'occurrenceID',\n",
       " 'kingdom',\n",
       " 'phylum',\n",
       " 'class',\n",
       " 'order',\n",
       " 'family',\n",
       " 'genus',\n",
       " 'species',\n",
       " 'infraspecificEpithet',\n",
       " 'taxonRank',\n",
       " 'scientificName',\n",
       " 'verbatimScientificName',\n",
       " 'verbatimScientificNameAuthorship',\n",
       " 'countryCode',\n",
       " 'locality',\n",
       " 'stateProvince',\n",
       " 'occurrenceStatus',\n",
       " 'individualCount',\n",
       " 'publishingOrgKey',\n",
       " 'decimalLatitude',\n",
       " 'decimalLongitude',\n",
       " 'coordinateUncertaintyInMeters',\n",
       " 'coordinatePrecision',\n",
       " 'elevation',\n",
       " 'elevationAccuracy',\n",
       " 'depth',\n",
       " 'depthAccuracy',\n",
       " 'eventDate',\n",
       " 'day',\n",
       " 'month',\n",
       " 'year',\n",
       " 'taxonKey',\n",
       " 'speciesKey',\n",
       " 'basisOfRecord',\n",
       " 'institutionCode',\n",
       " 'collectionCode',\n",
       " 'catalogNumber',\n",
       " 'recordNumber',\n",
       " 'identifiedBy',\n",
       " 'dateIdentified',\n",
       " 'license',\n",
       " 'rightsHolder',\n",
       " 'recordedBy',\n",
       " 'typeStatus',\n",
       " 'establishmentMeans',\n",
       " 'lastInterpreted',\n",
       " 'mediaType',\n",
       " 'issue']"
      ]
     },
     "execution_count": 4,
     "metadata": {},
     "output_type": "execute_result"
    }
   ],
   "source": [
    "# Lista de columnas\n",
    "list(registros_presencia_df.columns)"
   ]
  },
  {
   "cell_type": "code",
   "execution_count": 5,
   "metadata": {},
   "outputs": [
    {
     "data": {
      "text/plain": [
       "gbifID                  int64\n",
       "datasetKey             object\n",
       "occurrenceID           object\n",
       "kingdom                object\n",
       "phylum                 object\n",
       "                       ...   \n",
       "typeStatus            float64\n",
       "establishmentMeans    float64\n",
       "lastInterpreted        object\n",
       "mediaType              object\n",
       "issue                  object\n",
       "Length: 50, dtype: object"
      ]
     },
     "execution_count": 5,
     "metadata": {},
     "output_type": "execute_result"
    }
   ],
   "source": [
    "# Tipos de datos de las columnas\n",
    "registros_presencia_df.dtypes"
   ]
  },
  {
   "cell_type": "code",
   "execution_count": 6,
   "metadata": {},
   "outputs": [
    {
     "name": "stdout",
     "output_type": "stream",
     "text": [
      "<class 'pandas.core.frame.DataFrame'>\n",
      "RangeIndex: 5314 entries, 0 to 5313\n",
      "Data columns (total 50 columns):\n",
      " #   Column                            Non-Null Count  Dtype  \n",
      "---  ------                            --------------  -----  \n",
      " 0   gbifID                            5314 non-null   int64  \n",
      " 1   datasetKey                        5314 non-null   object \n",
      " 2   occurrenceID                      5312 non-null   object \n",
      " 3   kingdom                           5314 non-null   object \n",
      " 4   phylum                            5314 non-null   object \n",
      " 5   class                             5314 non-null   object \n",
      " 6   order                             5314 non-null   object \n",
      " 7   family                            5314 non-null   object \n",
      " 8   genus                             5314 non-null   object \n",
      " 9   species                           5314 non-null   object \n",
      " 10  infraspecificEpithet              0 non-null      float64\n",
      " 11  taxonRank                         5314 non-null   object \n",
      " 12  scientificName                    5314 non-null   object \n",
      " 13  verbatimScientificName            5314 non-null   object \n",
      " 14  verbatimScientificNameAuthorship  0 non-null      float64\n",
      " 15  countryCode                       5314 non-null   object \n",
      " 16  locality                          5259 non-null   object \n",
      " 17  stateProvince                     5312 non-null   object \n",
      " 18  occurrenceStatus                  0 non-null      float64\n",
      " 19  individualCount                   5118 non-null   float64\n",
      " 20  publishingOrgKey                  5314 non-null   object \n",
      " 21  decimalLatitude                   5314 non-null   float64\n",
      " 22  decimalLongitude                  5314 non-null   float64\n",
      " 23  coordinateUncertaintyInMeters     57 non-null     float64\n",
      " 24  coordinatePrecision               0 non-null      float64\n",
      " 25  elevation                         0 non-null      float64\n",
      " 26  elevationAccuracy                 0 non-null      float64\n",
      " 27  depth                             0 non-null      float64\n",
      " 28  depthAccuracy                     0 non-null      float64\n",
      " 29  eventDate                         5314 non-null   object \n",
      " 30  day                               5314 non-null   int64  \n",
      " 31  month                             5314 non-null   int64  \n",
      " 32  year                              5314 non-null   int64  \n",
      " 33  taxonKey                          5314 non-null   int64  \n",
      " 34  speciesKey                        5314 non-null   int64  \n",
      " 35  basisOfRecord                     5314 non-null   object \n",
      " 36  institutionCode                   5314 non-null   object \n",
      " 37  collectionCode                    5314 non-null   object \n",
      " 38  catalogNumber                     5314 non-null   object \n",
      " 39  recordNumber                      0 non-null      float64\n",
      " 40  identifiedBy                      0 non-null      float64\n",
      " 41  dateIdentified                    54 non-null     object \n",
      " 42  license                           5314 non-null   object \n",
      " 43  rightsHolder                      55 non-null     object \n",
      " 44  recordedBy                        5314 non-null   object \n",
      " 45  typeStatus                        0 non-null      float64\n",
      " 46  establishmentMeans                0 non-null      float64\n",
      " 47  lastInterpreted                   5314 non-null   object \n",
      " 48  mediaType                         54 non-null     object \n",
      " 49  issue                             4007 non-null   object \n",
      "dtypes: float64(16), int64(6), object(28)\n",
      "memory usage: 2.0+ MB\n"
     ]
    }
   ],
   "source": [
    "# Información sobre el DataFrame\n",
    "registros_presencia_df.info()"
   ]
  },
  {
   "cell_type": "code",
   "execution_count": 7,
   "metadata": {},
   "outputs": [
    {
     "data": {
      "text/html": [
       "<div>\n",
       "<style scoped>\n",
       "    .dataframe tbody tr th:only-of-type {\n",
       "        vertical-align: middle;\n",
       "    }\n",
       "\n",
       "    .dataframe tbody tr th {\n",
       "        vertical-align: top;\n",
       "    }\n",
       "\n",
       "    .dataframe thead th {\n",
       "        text-align: right;\n",
       "    }\n",
       "</style>\n",
       "<table border=\"1\" class=\"dataframe\">\n",
       "  <thead>\n",
       "    <tr style=\"text-align: right;\">\n",
       "      <th></th>\n",
       "      <th>species</th>\n",
       "      <th>stateProvince</th>\n",
       "      <th>locality</th>\n",
       "      <th>decimalLongitude</th>\n",
       "      <th>decimalLatitude</th>\n",
       "      <th>eventDate</th>\n",
       "    </tr>\n",
       "  </thead>\n",
       "  <tbody>\n",
       "    <tr>\n",
       "      <th>0</th>\n",
       "      <td>Ara macao</td>\n",
       "      <td>Puntarenas</td>\n",
       "      <td>NaN</td>\n",
       "      <td>-83.744504</td>\n",
       "      <td>8.651553</td>\n",
       "      <td>2018-01-05T15:56:00Z</td>\n",
       "    </tr>\n",
       "    <tr>\n",
       "      <th>1</th>\n",
       "      <td>Ara macao</td>\n",
       "      <td>Puntarenas</td>\n",
       "      <td>NaN</td>\n",
       "      <td>-84.700355</td>\n",
       "      <td>9.691419</td>\n",
       "      <td>2018-11-25T17:53:00Z</td>\n",
       "    </tr>\n",
       "    <tr>\n",
       "      <th>2</th>\n",
       "      <td>Ara macao</td>\n",
       "      <td>Puntarenas</td>\n",
       "      <td>NaN</td>\n",
       "      <td>-83.622591</td>\n",
       "      <td>8.719476</td>\n",
       "      <td>2018-07-02T14:08:00Z</td>\n",
       "    </tr>\n",
       "    <tr>\n",
       "      <th>3</th>\n",
       "      <td>Ara macao</td>\n",
       "      <td>Puntarenas</td>\n",
       "      <td>NaN</td>\n",
       "      <td>-84.575723</td>\n",
       "      <td>9.690136</td>\n",
       "      <td>2018-01-29T16:36:00Z</td>\n",
       "    </tr>\n",
       "    <tr>\n",
       "      <th>4</th>\n",
       "      <td>Ara macao</td>\n",
       "      <td>Guanacaste</td>\n",
       "      <td>Nammbú - Playa Carrillo</td>\n",
       "      <td>-85.480936</td>\n",
       "      <td>9.864875</td>\n",
       "      <td>2018-10-25T00:00:00Z</td>\n",
       "    </tr>\n",
       "    <tr>\n",
       "      <th>...</th>\n",
       "      <td>...</td>\n",
       "      <td>...</td>\n",
       "      <td>...</td>\n",
       "      <td>...</td>\n",
       "      <td>...</td>\n",
       "      <td>...</td>\n",
       "    </tr>\n",
       "    <tr>\n",
       "      <th>5309</th>\n",
       "      <td>Ara macao</td>\n",
       "      <td>Puntarenas</td>\n",
       "      <td>NaN</td>\n",
       "      <td>-84.663720</td>\n",
       "      <td>9.957114</td>\n",
       "      <td>2018-01-24T00:00:00Z</td>\n",
       "    </tr>\n",
       "    <tr>\n",
       "      <th>5310</th>\n",
       "      <td>Ara macao</td>\n",
       "      <td>Puntarenas</td>\n",
       "      <td>NaN</td>\n",
       "      <td>-83.929924</td>\n",
       "      <td>9.330319</td>\n",
       "      <td>2018-01-29T14:17:00Z</td>\n",
       "    </tr>\n",
       "    <tr>\n",
       "      <th>5311</th>\n",
       "      <td>Ara macao</td>\n",
       "      <td>Puntarenas</td>\n",
       "      <td>NaN</td>\n",
       "      <td>-83.758478</td>\n",
       "      <td>8.699296</td>\n",
       "      <td>2018-01-13T17:38:00Z</td>\n",
       "    </tr>\n",
       "    <tr>\n",
       "      <th>5312</th>\n",
       "      <td>Ara macao</td>\n",
       "      <td>Puntarenas</td>\n",
       "      <td>NaN</td>\n",
       "      <td>-84.736245</td>\n",
       "      <td>9.603840</td>\n",
       "      <td>2018-01-03T14:39:00Z</td>\n",
       "    </tr>\n",
       "    <tr>\n",
       "      <th>5313</th>\n",
       "      <td>Ara macao</td>\n",
       "      <td>Puntarenas</td>\n",
       "      <td>NaN</td>\n",
       "      <td>-84.640487</td>\n",
       "      <td>9.612702</td>\n",
       "      <td>2018-01-04T12:17:00Z</td>\n",
       "    </tr>\n",
       "  </tbody>\n",
       "</table>\n",
       "<p>5314 rows × 6 columns</p>\n",
       "</div>"
      ],
      "text/plain": [
       "        species stateProvince                 locality  decimalLongitude  \\\n",
       "0     Ara macao    Puntarenas                      NaN        -83.744504   \n",
       "1     Ara macao    Puntarenas                      NaN        -84.700355   \n",
       "2     Ara macao    Puntarenas                      NaN        -83.622591   \n",
       "3     Ara macao    Puntarenas                      NaN        -84.575723   \n",
       "4     Ara macao    Guanacaste  Nammbú - Playa Carrillo        -85.480936   \n",
       "...         ...           ...                      ...               ...   \n",
       "5309  Ara macao    Puntarenas                      NaN        -84.663720   \n",
       "5310  Ara macao    Puntarenas                      NaN        -83.929924   \n",
       "5311  Ara macao    Puntarenas                      NaN        -83.758478   \n",
       "5312  Ara macao    Puntarenas                      NaN        -84.736245   \n",
       "5313  Ara macao    Puntarenas                      NaN        -84.640487   \n",
       "\n",
       "      decimalLatitude             eventDate  \n",
       "0            8.651553  2018-01-05T15:56:00Z  \n",
       "1            9.691419  2018-11-25T17:53:00Z  \n",
       "2            8.719476  2018-07-02T14:08:00Z  \n",
       "3            9.690136  2018-01-29T16:36:00Z  \n",
       "4            9.864875  2018-10-25T00:00:00Z  \n",
       "...               ...                   ...  \n",
       "5309         9.957114  2018-01-24T00:00:00Z  \n",
       "5310         9.330319  2018-01-29T14:17:00Z  \n",
       "5311         8.699296  2018-01-13T17:38:00Z  \n",
       "5312         9.603840  2018-01-03T14:39:00Z  \n",
       "5313         9.612702  2018-01-04T12:17:00Z  \n",
       "\n",
       "[5314 rows x 6 columns]"
      ]
     },
     "execution_count": 7,
     "metadata": {},
     "output_type": "execute_result"
    }
   ],
   "source": [
    "# Selección de un subconjunto de columnas\n",
    "registros_presencia_df = registros_presencia_df[['species', 'stateProvince', 'locality', 'decimalLongitude', 'decimalLatitude', 'eventDate']]\n",
    "registros_presencia_df"
   ]
  },
  {
   "cell_type": "code",
   "execution_count": 8,
   "metadata": {},
   "outputs": [
    {
     "data": {
      "text/plain": [
       "dtype('O')"
      ]
     },
     "execution_count": 8,
     "metadata": {},
     "output_type": "execute_result"
    }
   ],
   "source": [
    "# Consulta del tipo de datos de una columna\n",
    "registros_presencia_df.eventDate.dtypes"
   ]
  },
  {
   "cell_type": "code",
   "execution_count": 9,
   "metadata": {},
   "outputs": [
    {
     "name": "stderr",
     "output_type": "stream",
     "text": [
      "<ipython-input-9-b078052fb2bc>:2: SettingWithCopyWarning: \n",
      "A value is trying to be set on a copy of a slice from a DataFrame.\n",
      "Try using .loc[row_indexer,col_indexer] = value instead\n",
      "\n",
      "See the caveats in the documentation: https://pandas.pydata.org/pandas-docs/stable/user_guide/indexing.html#returning-a-view-versus-a-copy\n",
      "  registros_presencia_df[\"eventDate\"] = pd.to_datetime(registros_presencia_df[\"eventDate\"])\n"
     ]
    }
   ],
   "source": [
    "# Cambio del tipo de datos dateTime\n",
    "registros_presencia_df[\"eventDate\"] = pd.to_datetime(registros_presencia_df[\"eventDate\"])"
   ]
  },
  {
   "cell_type": "code",
   "execution_count": null,
   "metadata": {},
   "outputs": [],
   "source": [
    "# Verificación del nuevo tipo de datos de la columna\n",
    "registros_presencia_df.eventDate.dtypes"
   ]
  },
  {
   "cell_type": "code",
   "execution_count": null,
   "metadata": {},
   "outputs": [],
   "source": [
    "# Revisión del DataFrame para verificar la columna cambiada\n",
    "registros_presencia_df"
   ]
  },
  {
   "cell_type": "markdown",
   "metadata": {},
   "source": [
    "## Análisis de la información"
   ]
  },
  {
   "cell_type": "markdown",
   "metadata": {},
   "source": [
    "### Graficación"
   ]
  },
  {
   "cell_type": "code",
   "execution_count": 10,
   "metadata": {},
   "outputs": [],
   "source": [
    "# Estilo de los gráficos\n",
    "plt.style.use('ggplot')"
   ]
  },
  {
   "cell_type": "markdown",
   "metadata": {},
   "source": [
    "#### Distribución de registros por mes"
   ]
  },
  {
   "cell_type": "code",
   "execution_count": 11,
   "metadata": {},
   "outputs": [
    {
     "data": {
      "text/plain": [
       "eventDate\n",
       "1     757\n",
       "2     772\n",
       "3     805\n",
       "4     401\n",
       "5     455\n",
       "6     277\n",
       "7     331\n",
       "8     286\n",
       "9     122\n",
       "10    186\n",
       "11    322\n",
       "12    600\n",
       "Name: eventDate, dtype: int64"
      ]
     },
     "execution_count": 11,
     "metadata": {},
     "output_type": "execute_result"
    }
   ],
   "source": [
    "# Agrupación de los registros por mes\n",
    "registros_x_mes = registros_presencia_df.groupby(registros_presencia_df['eventDate'].dt.month).count().eventDate\n",
    "\n",
    "registros_x_mes"
   ]
  },
  {
   "cell_type": "code",
   "execution_count": 12,
   "metadata": {},
   "outputs": [
    {
     "data": {
      "text/plain": [
       "January      757\n",
       "February     772\n",
       "March        805\n",
       "April        401\n",
       "May          455\n",
       "June         277\n",
       "July         331\n",
       "August       286\n",
       "September    122\n",
       "October      186\n",
       "November     322\n",
       "December     600\n",
       "Name: eventDate, dtype: int64"
      ]
     },
     "execution_count": 12,
     "metadata": {},
     "output_type": "execute_result"
    }
   ],
   "source": [
    "# Reemplazo del número del mes por el nombre del mes\n",
    "registros_x_mes.index=[calendar.month_name[x] for x in range(1,13)]\n",
    "\n",
    "registros_x_mes"
   ]
  },
  {
   "cell_type": "code",
   "execution_count": 13,
   "metadata": {},
   "outputs": [
    {
     "data": {
      "image/png": "[encoded data removed]",
      "text/plain": [
       "<Figure size 864x504 with 1 Axes>"
      ]
     },
     "metadata": {},
     "output_type": "display_data"
    }
   ],
   "source": [
    "# Gráfico de barras\n",
    "registros_x_mes.plot(kind='bar',figsize=(12,7), color='blue', alpha=0.5)\n",
    "\n",
    "# Título y leyendas en los ejes\n",
    "plt.title('Registros de presencia de ' + nombre_cientifico + ' en Costa Rica en 2018', fontsize=20)\n",
    "plt.xlabel('Mes', fontsize=16)\n",
    "plt.ylabel('Cantidad de registros', fontsize=16);"
   ]
  },
  {
   "cell_type": "markdown",
   "metadata": {},
   "source": [
    "#### Distribución de registros por día de la semana"
   ]
  },
  {
   "cell_type": "code",
   "execution_count": 14,
   "metadata": {},
   "outputs": [
    {
     "data": {
      "text/plain": [
       "eventDate\n",
       "0    777\n",
       "1    676\n",
       "2    721\n",
       "3    655\n",
       "4    721\n",
       "5    991\n",
       "6    773\n",
       "Name: eventDate, dtype: int64"
      ]
     },
     "execution_count": 14,
     "metadata": {},
     "output_type": "execute_result"
    }
   ],
   "source": [
    "# Agrupación de los registros por día de la semana\n",
    "registros_x_dia_semana = registros_presencia_df.groupby(registros_presencia_df['eventDate'].dt.dayofweek).count().eventDate\n",
    "\n",
    "registros_x_dia_semana"
   ]
  },
  {
   "cell_type": "code",
   "execution_count": 15,
   "metadata": {},
   "outputs": [
    {
     "data": {
      "text/plain": [
       "Monday       777\n",
       "Tuesday      676\n",
       "Wednesday    721\n",
       "Thursday     655\n",
       "Friday       721\n",
       "Saturday     991\n",
       "Sunday       773\n",
       "Name: eventDate, dtype: int64"
      ]
     },
     "execution_count": 15,
     "metadata": {},
     "output_type": "execute_result"
    }
   ],
   "source": [
    "# Reemplazo del número del día por el nombre del día\n",
    "registros_x_dia_semana.index=[calendar.day_name[x] for x in range(0, 7)]\n",
    "\n",
    "registros_x_dia_semana"
   ]
  },
  {
   "cell_type": "code",
   "execution_count": 16,
   "metadata": {},
   "outputs": [
    {
     "data": {
      "image/png": "[encoded data removed]",
      "text/plain": [
       "<Figure size 864x504 with 1 Axes>"
      ]
     },
     "metadata": {},
     "output_type": "display_data"
    }
   ],
   "source": [
    "# Gráfico de barras\n",
    "registros_x_dia_semana.plot(kind='bar', figsize=(12,7), color='magenta', alpha=0.5)\n",
    "\n",
    "# Título y leyendas en los ejes\n",
    "plt.title('Registros de presencia de ' + nombre_cientifico + ' en Costa Rica en 2018', fontsize=20)\n",
    "plt.xlabel('Día de la semana', fontsize=16)\n",
    "plt.ylabel('Cantidad de registros', fontsize=16);"
   ]
  },
  {
   "cell_type": "markdown",
   "metadata": {},
   "source": [
    "#### Distribución de registros por fecha"
   ]
  },
  {
   "cell_type": "code",
   "execution_count": null,
   "metadata": {},
   "outputs": [],
   "source": [
    "# Agrupación de los registros por día del año\n",
    "registros_x_fecha = registros_presencia_df.groupby(registros_presencia_df['eventDate'].dt.date).count().eventDate\n",
    "\n",
    "registros_x_fecha"
   ]
  },
  {
   "cell_type": "code",
   "execution_count": null,
   "metadata": {},
   "outputs": [],
   "source": [
    "# Gráfico de líneas\n",
    "registros_x_fecha.plot(figsize=(20,8), color='blue')\n",
    "\n",
    "# Marca para el día de la semana con más registros\n",
    "registros_sabados = registros_presencia_df.groupby(registros_presencia_df[registros_presencia_df['eventDate'].dt.dayofweek==5].eventDate.dt.date).count().eventDate\n",
    "plt.scatter(registros_sabados.index, registros_sabados, color='green', label='Sábado')\n",
    "\n",
    "# Marca para el día de la semana con menos registros\n",
    "registros_jueves = registros_presencia_df.groupby(registros_presencia_df[registros_presencia_df['eventDate'].dt.dayofweek==3].eventDate.dt.date).count().eventDate\n",
    "plt.scatter(registros_jueves.index, registros_jueves, color='red', label='Jueves')\n",
    "\n",
    "# Título y leyendas en los ejes\n",
    "plt.title('Registros de presencia de ' + nombre_cientifico + ' en Costa Rica en 2018', fontsize=20)\n",
    "plt.xlabel('Fecha',fontsize=16)\n",
    "plt.ylabel('Cantidad de registros',fontsize=16);\n",
    "plt.legend()"
   ]
  },
  {
   "cell_type": "markdown",
   "metadata": {},
   "source": [
    "#### Distribución de registros por provincia"
   ]
  },
  {
   "cell_type": "code",
   "execution_count": null,
   "metadata": {},
   "outputs": [],
   "source": [
    "# Agrupación de los registros por provincia\n",
    "registros_x_provincia = registros_presencia_df.groupby(registros_presencia_df['stateProvince'])['stateProvince'].count()\n",
    "\n",
    "registros_x_provincia"
   ]
  },
  {
   "cell_type": "code",
   "execution_count": null,
   "metadata": {},
   "outputs": [],
   "source": [
    "# Gráfico de barras\n",
    "registros_x_provincia.plot(kind='bar',figsize=(12,7), color='brown', alpha=0.5)\n",
    "\n",
    "# Leyendas en los ejes\n",
    "plt.title('Registros de presencia de ' + nombre_cientifico + ' en Costa Rica en 2018', fontsize=20)\n",
    "plt.xlabel('Provincia', fontsize=16)\n",
    "plt.ylabel('Cantidad de registros', fontsize=16);"
   ]
  },
  {
   "cell_type": "code",
   "execution_count": null,
   "metadata": {},
   "outputs": [],
   "source": [
    "# Gráfico de pastel\n",
    "registros_x_provincia.plot(kind='pie',figsize=(10,10), colors=['red', 'magenta', 'yellow', 'green', 'orange', 'brown'], labels=None, autopct='%1.1f%%', fontsize=16)\n",
    "\n",
    "# Leyendas y título\n",
    "plt.legend(labels=['Alajuela', 'Guanacaste', 'Heredia', 'Limón', 'Puntarenas', 'San José'])\n",
    "plt.title('Registros de presencia de ' + nombre_cientifico + ' en Costa Rica en 2018', fontsize=20)\n",
    "plt.ylabel('')"
   ]
  },
  {
   "cell_type": "markdown",
   "metadata": {},
   "source": [
    "### Mapeo"
   ]
  },
  {
   "cell_type": "markdown",
   "metadata": {},
   "source": [
    "#### GeoPandas"
   ]
  },
  {
   "cell_type": "code",
   "execution_count": null,
   "metadata": {},
   "outputs": [],
   "source": [
    "# Geodataframe\n",
    "registros_presencia_geom = [Point(xy) for xy in zip(registros_presencia_df[\"decimalLongitude\"], registros_presencia_df[\"decimalLatitude\"])]\n",
    "registros_presencia_gdf=gpd.GeoDataFrame(registros_presencia_df, crs={\"init\": \"epsg:4326\"}, geometry=registros_presencia_geom)"
   ]
  },
  {
   "cell_type": "markdown",
   "metadata": {},
   "source": [
    "#### Folium"
   ]
  },
  {
   "cell_type": "code",
   "execution_count": null,
   "metadata": {},
   "outputs": [],
   "source": [
    "# Mapa centrado en Costa Rica\n",
    "registros_presencia_mapa = folium.Map(location=[9.63, -84], zoom_start=8)\n",
    "\n",
    "registros_presencia_mapa"
   ]
  },
  {
   "cell_type": "markdown",
   "metadata": {},
   "source": [
    "##### Mapa de puntos"
   ]
  },
  {
   "cell_type": "code",
   "execution_count": null,
   "metadata": {},
   "outputs": [],
   "source": [
    "# Mapa centrado en Costa Rica\n",
    "registros_presencia_mapa = folium.Map(location=[9.63, -84], zoom_start=8)\n",
    "\n",
    "# Mapeo de los puntos correspondientes a los registros de presencia\n",
    "for lat, lng, label in zip(registros_presencia_df.decimalLatitude, registros_presencia_df.decimalLongitude, registros_presencia_df.eventDate.astype(str)):\n",
    "    folium.CircleMarker(\n",
    "        [lat, lng],\n",
    "        radius=3,\n",
    "        color='red',\n",
    "        fill=True,\n",
    "        popup=label,\n",
    "        fill_color='darkred',\n",
    "        fill_opacity=0.6\n",
    "    ).add_to(registros_presencia_mapa)\n",
    "    \n",
    "registros_presencia_mapa"
   ]
  },
  {
   "cell_type": "markdown",
   "metadata": {},
   "source": [
    "##### Mapa de \"cluster\""
   ]
  },
  {
   "cell_type": "code",
   "execution_count": null,
   "metadata": {},
   "outputs": [],
   "source": [
    "# Mapa centrado en Costa Rica\n",
    "registros_presencia_mapa = folium.Map(location=[9.63, -84], zoom_start=8)\n",
    "\n",
    "# Instantiate a mark cluster object for the car accidents\n",
    "registros_presencia_cluster = plugins.MarkerCluster().add_to(registros_presencia_mapa)\n",
    "\n",
    "for lat, lng, label in zip(registros_presencia_df.decimalLatitude, registros_presencia_df.decimalLongitude, registros_presencia_df.eventDate.astype(str)):\n",
    "    folium.Marker(\n",
    "        location=[lat, lng],\n",
    "        icon=None,\n",
    "        popup=label,\n",
    "    ).add_to(registros_presencia_cluster)    \n",
    "    \n",
    "registros_presencia_mapa"
   ]
  },
  {
   "cell_type": "markdown",
   "metadata": {},
   "source": [
    "##### Mapa de calor"
   ]
  },
  {
   "cell_type": "code",
   "execution_count": null,
   "metadata": {},
   "outputs": [],
   "source": [
    "# Mapa centrado en Costa Rica\n",
    "registros_presencia_mapa = folium.Map(location=[9.63, -84], zoom_start=8)\n",
    "\n",
    "lista_meses = [[] for _ in range(13)]\n",
    "for lat, log, mes in zip(registros_presencia_df.decimalLatitude, registros_presencia_df.decimalLongitude, registros_presencia_df.eventDate.dt.month):\n",
    "    lista_meses[mes].append([lat,log]) \n",
    "    \n",
    "# Etiqueas que indican la cantidad de meses\n",
    "index = [str(i)+' Meses' for i in range(13)]\n",
    "\n",
    "# Mapa de calor\n",
    "HeatMapWithTime(lista_meses, index).add_to(registros_presencia_mapa)\n",
    "\n",
    "registros_presencia_mapa    "
   ]
  },
  {
   "cell_type": "code",
   "execution_count": null,
   "metadata": {},
   "outputs": [],
   "source": []
  }
 ],
 "metadata": {
  "kernelspec": {
   "display_name": "Python 3",
   "language": "python",
   "name": "python3"
  },
  "language_info": {
   "codemirror_mode": {
    "name": "ipython",
    "version": 3
   },
   "file_extension": ".py",
   "mimetype": "text/x-python",
   "name": "python",
   "nbconvert_exporter": "python",
   "pygments_lexer": "ipython3",
   "version": "3.8.6"
  }
 },
 "nbformat": 4,
 "nbformat_minor": 2
}
